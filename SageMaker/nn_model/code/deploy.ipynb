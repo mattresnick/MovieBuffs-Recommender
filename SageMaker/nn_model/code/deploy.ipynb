{
 "cells": [
  {
   "cell_type": "code",
   "execution_count": 29,
   "metadata": {},
   "outputs": [
    {
     "name": "stdout",
     "output_type": "stream",
     "text": [
      "-----------------!"
     ]
    }
   ],
   "source": [
    "from sagemaker.sklearn.model import SKLearnModel\n",
    "import sagemaker\n",
    "import boto3\n",
    "import numpy as np\n",
    "\n",
    "sklearn_model = SKLearnModel(model_data='s3://moviebuffsrec/nn_model.tar.gz', \n",
    "                            role='arn:aws:iam::411057720814:role/service-role/AmazonSageMaker-ExecutionRole-20210302T131358',\n",
    "                            entry_point='inference.py', py_version='py3',framework_version=\"0.23-1\")\n",
    "\n",
    "predictor = sklearn_model.deploy(instance_type='ml.t2.medium', initial_instance_count=1, endpoint_name='moviebuffs-sklearn')"
   ]
  },
  {
   "cell_type": "code",
   "execution_count": 24,
   "metadata": {},
   "outputs": [
    {
     "data": {
      "text/plain": [
       "array(['Blade Runner', 'Superman II',\n",
       "       'Superman II: The Richard Donner Cut', 'Serenity', 'The General',\n",
       "       'Macross: Do You Remember Love?', \"We're No Monks\",\n",
       "       'Moon Zero Two', 'Star Trek: First Contact', 'Alien Resurrection'],\n",
       "      dtype='<U35')"
      ]
     },
     "execution_count": 24,
     "metadata": {},
     "output_type": "execute_result"
    }
   ],
   "source": [
    "predictor.predict('Blade Runner')"
   ]
  },
  {
   "cell_type": "code",
   "execution_count": null,
   "metadata": {},
   "outputs": [],
   "source": []
  }
 ],
 "metadata": {
  "instance_type": "ml.t3.medium",
  "kernelspec": {
   "display_name": "Python 3 (Data Science)",
   "language": "python",
   "name": "python3__SAGEMAKER_INTERNAL__arn:aws:sagemaker:us-east-2:429704687514:image/datascience-1.0"
  },
  "language_info": {
   "codemirror_mode": {
    "name": "ipython",
    "version": 3
   },
   "file_extension": ".py",
   "mimetype": "text/x-python",
   "name": "python",
   "nbconvert_exporter": "python",
   "pygments_lexer": "ipython3",
   "version": "3.7.10"
  }
 },
 "nbformat": 4,
 "nbformat_minor": 4
}
